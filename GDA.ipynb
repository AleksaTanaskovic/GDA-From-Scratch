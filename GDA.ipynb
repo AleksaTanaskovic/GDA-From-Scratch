{
 "cells": [
  {
   "cell_type": "markdown",
   "id": "402516ee-2aff-4ac6-b7a3-17ca2d3350d3",
   "metadata": {},
   "source": [
    "<h2>GDA (Gaussian Discriminant Analysis) - GDA using only NumPy and Math libraries</h2>"
   ]
  },
  {
   "cell_type": "code",
   "execution_count": 1,
   "id": "748150a5",
   "metadata": {},
   "outputs": [],
   "source": [
    "# load data\n",
    "import numpy as np\n",
    "from math import *\n",
    "\n",
    "data = np.loadtxt('multiclass_data.csv', delimiter = ',')\n",
    "\n",
    "pred = np.delete(data, 5, axis = 1) # pred[i][j]\n",
    "klase = np.delete(data, [0, 1, 2, 3, 4], axis = 1) # klase[i][0] - classes 0, 1 and 2"
   ]
  },
  {
   "cell_type": "code",
   "execution_count": 2,
   "id": "0e028b03",
   "metadata": {},
   "outputs": [],
   "source": [
    "# standardization\n",
    "sr_vr = [] # mean values vector for all features\n",
    "for j in range(0, 5):\n",
    "    suma = 0\n",
    "    std_clan = 0\n",
    "    std2 = 0\n",
    "    for i in range(0, len(pred)):\n",
    "        suma += pred[i][j]\n",
    "    sr_vr.append(suma / len(pred)) # mean values\n",
    "    \n",
    "    for k in range(0, len(pred)):\n",
    "        std_clan += (pred[k][j] - sr_vr[j]) ** 2 # calculate sum for std dev\n",
    "    std2 = 1 / len(pred) * std_clan # std_dev ^ 2\n",
    "    \n",
    "    for q in range(0, len(pred)):\n",
    "        pred[q][j] = (pred[q][j] - sr_vr[j]) / sqrt(std2)"
   ]
  },
  {
   "cell_type": "code",
   "execution_count": 3,
   "id": "aeca126e",
   "metadata": {},
   "outputs": [
    {
     "data": {
      "text/plain": [
       "0.9999999999999997"
      ]
     },
     "execution_count": 3,
     "metadata": {},
     "output_type": "execute_result"
    }
   ],
   "source": [
    "# checking whether the standardization is done correctly\n",
    "sr_vr1 = []\n",
    "for k in range(0, 5):\n",
    "    suma11 = 0\n",
    "    for i in range(0, len(pred)):\n",
    "        suma11 += pred[i][k]\n",
    "    sr_vr1.append(suma11 / len(pred)) # mean values\n",
    "\n",
    "    std_clan1 = 0\n",
    "    std12 = 0\n",
    "    for z in range(0, len(pred)):\n",
    "        std_clan1 += (pred[z][j] - sr_vr1[k]) ** 2 # calculate sum for std dev\n",
    "    std12 = 1 / len(pred) * std_clan1 # std_dev ^ 2\n",
    "    \n",
    "sqrt(std12)"
   ]
  },
  {
   "cell_type": "code",
   "execution_count": 4,
   "id": "899d1588",
   "metadata": {},
   "outputs": [],
   "source": [
    "# determine parameters fi, mi and sigma\n",
    "br_pojavljivanja = [0, 0, 0]\n",
    "suma_x = [[0, 0, 0, 0, 0], [0, 0, 0, 0, 0], [0, 0, 0, 0, 0]]\n",
    "for i in range(0, len(klase)):\n",
    "    if(klase[i] == 0):\n",
    "        br_pojavljivanja[0] = br_pojavljivanja[0] + 1\n",
    "        suma_x[0] = np.sum((suma_x[0], pred[i]), axis = 0)\n",
    "    if(klase[i] == 1):\n",
    "        br_pojavljivanja[1] = br_pojavljivanja[1] + 1\n",
    "        suma_x[1] = np.sum((suma_x[1], pred[i]), axis = 0)\n",
    "    if(klase[i] == 2):\n",
    "        br_pojavljivanja[2] = br_pojavljivanja[2] + 1\n",
    "        suma_x[2] = np.sum((suma_x[2], pred[i]), axis = 0)\n",
    "        \n",
    "fi_0 = br_pojavljivanja[0] / len(klase)\n",
    "fi_1 = br_pojavljivanja[1] / len(klase)\n",
    "fi_2 = br_pojavljivanja[2] / len(klase)\n",
    "\n",
    "mi_0 = np.divide(suma_x[0], br_pojavljivanja[0])\n",
    "mi_1 = np.divide(suma_x[1], br_pojavljivanja[1])\n",
    "mi_2 = np.divide(suma_x[2], br_pojavljivanja[2])\n",
    "\n",
    "suma_sigma = [0, 0, 0]\n",
    "for i in range(0, len(klase)):\n",
    "    if(klase[i] == 0):\n",
    "        suma_sigma[0] = suma_sigma[0] + np.dot(np.subtract(pred[i], mi_0), np.transpose(np.subtract(pred[i], mi_0)))\n",
    "    if(klase[i] == 1):\n",
    "        suma_sigma[1] = suma_sigma[1] + np.dot(np.subtract(pred[i], mi_1), np.transpose(np.subtract(pred[i], mi_1)))\n",
    "    if(klase[i] == 2):\n",
    "        suma_sigma[2] = suma_sigma[2] + np.dot(np.subtract(pred[i], mi_2), np.transpose(np.subtract(pred[i], mi_2)))\n",
    "        \n",
    "sigma_0 = np.divide(suma_sigma[0], br_pojavljivanja[0])\n",
    "sigma_1 = np.divide(suma_sigma[1], br_pojavljivanja[1])\n",
    "sigma_2 = np.divide(suma_sigma[2], br_pojavljivanja[2])"
   ]
  },
  {
   "cell_type": "code",
   "execution_count": 5,
   "id": "db22d981",
   "metadata": {},
   "outputs": [],
   "source": [
    "# decision making\n",
    "odluke = []\n",
    "for i in range(0, len(pred)):\n",
    "    const_1 = -0.5 * pow(sigma_1, -1)\n",
    "    cinilac_1 = np.transpose(np.subtract(pred[i], mi_1))\n",
    "    cinilac_2 = np.subtract(pred[i], mi_1)\n",
    "    sabirak_1 = np.multiply(np.dot(cinilac_1, cinilac_2), const_1)\n",
    "    \n",
    "    const_2 = 0.5 * pow(sigma_0, -1)\n",
    "    cinilac_11 = np.transpose(np.subtract(pred[i], mi_0))\n",
    "    cinilac_22 = np.subtract(pred[i], mi_0)\n",
    "    sabirak_2 = np.multiply(np.dot(cinilac_11, cinilac_22), const_2)\n",
    "    \n",
    "    ver = pow(e, sabirak_1 + sabirak_2)\n",
    "    \n",
    "    if(ver > 1):\n",
    "        y = 1\n",
    "        \n",
    "        const_3 = 0.5 * pow(sigma_2, -1)\n",
    "        cinilac_11_3 = np.transpose(np.subtract(pred[i], mi_2))\n",
    "        cinilac_22_3 = np.subtract(pred[i], mi_2)\n",
    "        sabirak_3 = np.multiply(np.dot(cinilac_11_3, cinilac_22_3), const_3)\n",
    "\n",
    "        ver1 = pow(e, sabirak_1 + sabirak_3)\n",
    "        \n",
    "        if(ver1 > 1):\n",
    "            y = 1\n",
    "        else:\n",
    "            y = 2\n",
    "        \n",
    "    else:\n",
    "        y = 0\n",
    "        \n",
    "        const_3 = 0.5 * pow(sigma_2, -1)\n",
    "        cinilac_11_3 = np.transpose(np.subtract(pred[i], mi_2))\n",
    "        cinilac_22_3 = np.subtract(pred[i], mi_2)\n",
    "        sabirak_3 = np.multiply(np.dot(cinilac_11_3, cinilac_22_3), const_3)\n",
    "\n",
    "        ver2 = pow(e, sabirak_2 + sabirak_3)\n",
    "        \n",
    "        if(ver2 > 1):\n",
    "            y = 0\n",
    "        else:\n",
    "            y = 2\n",
    "        \n",
    "    odluke.append(y)"
   ]
  },
  {
   "cell_type": "code",
   "execution_count": 6,
   "id": "0c9ec005",
   "metadata": {},
   "outputs": [
    {
     "data": {
      "text/plain": [
       "94.9438202247191"
      ]
     },
     "execution_count": 6,
     "metadata": {},
     "output_type": "execute_result"
    }
   ],
   "source": [
    "# accuracy obtained on traning data\n",
    "br_gr = 0\n",
    "for i in range(0, len(pred)):\n",
    "    if(odluke[i] != klase[i][0]):\n",
    "        br_gr = br_gr + 1\n",
    "        \n",
    "accuracy = (len(pred) - br_gr) / len(pred) * 100\n",
    "\n",
    "accuracy"
   ]
  }
 ],
 "metadata": {
  "kernelspec": {
   "display_name": "Python 3 (ipykernel)",
   "language": "python",
   "name": "python3"
  },
  "language_info": {
   "codemirror_mode": {
    "name": "ipython",
    "version": 3
   },
   "file_extension": ".py",
   "mimetype": "text/x-python",
   "name": "python",
   "nbconvert_exporter": "python",
   "pygments_lexer": "ipython3",
   "version": "3.9.13"
  }
 },
 "nbformat": 4,
 "nbformat_minor": 5
}
